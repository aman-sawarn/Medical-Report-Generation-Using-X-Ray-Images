{
 "cells": [
  {
   "cell_type": "markdown",
   "metadata": {
    "colab_type": "text",
    "id": "tx6Yi0W2TurP"
   },
   "source": [
    "# Final Notebook\n",
    "\n",
    "## This is the final Notebook\n",
    "\n",
    "## It just loads the tokenizer, weights and predicts weights\n",
    "\n",
    "## You can use Categorical Distribution, Argmax, and Beam Search evaluating functions\n",
    "\n",
    "## You can plot attention to see if the generated outputs are interpreting the model well or now"
   ]
  },
  {
   "cell_type": "code",
   "execution_count": 1,
   "metadata": {
    "colab": {
     "base_uri": "https://localhost:8080/",
     "height": 122
    },
    "colab_type": "code",
    "id": "PSQFPkwUb40b",
    "outputId": "0e0bf8be-f251-4258-8242-c808860e68c6"
   },
   "outputs": [
    {
     "name": "stdout",
     "output_type": "stream",
     "text": [
      "Go to this URL in a browser: https://accounts.google.com/o/oauth2/auth?client_id=947318989803-6bn6qk8qdgf4n4g3pfee6491hc0brc4i.apps.googleusercontent.com&redirect_uri=urn%3aietf%3awg%3aoauth%3a2.0%3aoob&response_type=code&scope=email%20https%3a%2f%2fwww.googleapis.com%2fauth%2fdocs.test%20https%3a%2f%2fwww.googleapis.com%2fauth%2fdrive%20https%3a%2f%2fwww.googleapis.com%2fauth%2fdrive.photos.readonly%20https%3a%2f%2fwww.googleapis.com%2fauth%2fpeopleapi.readonly\n",
      "\n",
      "Enter your authorization code:\n",
      "··········\n",
      "Mounted at /content/drive\n"
     ]
    }
   ],
   "source": [
    "from google.colab import drive\n",
    "drive.mount('/content/drive')"
   ]
  },
  {
   "cell_type": "code",
   "execution_count": 2,
   "metadata": {
    "colab": {
     "base_uri": "https://localhost:8080/",
     "height": 71
    },
    "colab_type": "code",
    "id": "ZjarX7B56bKt",
    "outputId": "fe958267-f43a-405b-e367-f713bc9a108a"
   },
   "outputs": [
    {
     "name": "stderr",
     "output_type": "stream",
     "text": [
      "/usr/local/lib/python3.6/dist-packages/statsmodels/tools/_testing.py:19: FutureWarning: pandas.util.testing is deprecated. Use the functions in the public API at pandas.testing instead.\n",
      "  import pandas.util.testing as tm\n"
     ]
    }
   ],
   "source": [
    "import tensorflow as tf\n",
    "from IPython.display import Image\n",
    "from IPython.core.display import HTML\n",
    "# You'll generate plots of attention in order to see which parts of an image\n",
    "# our model focuses on during captioning\n",
    "import matplotlib.pyplot as plt\n",
    "from tqdm import tqdm\n",
    "# Scikit-learn includes many helpful utilities\n",
    "from sklearn.model_selection import train_test_split\n",
    "from sklearn.utils import shuffle\n",
    "import os\n",
    "# import tensorflow as tf\n",
    "import xml.etree.ElementTree\n",
    "import numpy as np\n",
    "import pandas as pd\n",
    "import re\n",
    "import re\n",
    "import numpy as np\n",
    "import os\n",
    "import time\n",
    "import json\n",
    "from glob import glob\n",
    "from PIL import Image\n",
    "import pickle\n",
    "import string\n",
    "import glob\n",
    "from tensorflow.keras.applications import MobileNet\n",
    "import tensorflow.keras.applications.mobilenet  \n",
    "\n",
    "from tensorflow.keras.applications.inception_v3 import InceptionV3\n",
    "import tensorflow.keras.applications.inception_v3\n",
    "\n",
    "\n",
    "from tqdm import tqdm\n",
    "import tensorflow.keras.preprocessing.image\n",
    "import pickle\n",
    "from time import time\n",
    "import numpy as np\n",
    "from PIL import Image\n",
    "from tensorflow.keras.models import Sequential\n",
    "from tensorflow.keras.layers import LSTM, Embedding, TimeDistributed, Dense, RepeatVector,\\\n",
    "                         Activation, Flatten, Reshape, concatenate, Dropout, BatchNormalization\n",
    "from tensorflow.keras.optimizers import Adam, RMSprop\n",
    "from tensorflow.keras import Input, layers\n",
    "from tensorflow.keras import optimizers\n",
    "\n",
    "from tensorflow.keras.models import Model\n",
    "\n",
    "from tensorflow.keras.layers import add\n",
    "from tensorflow.keras.preprocessing.sequence import pad_sequences\n",
    "from tensorflow.keras.utils import to_categorical\n",
    "import matplotlib.pyplot as plt\n",
    "import seaborn as sns\n",
    "import warnings\n",
    "warnings.filterwarnings('ignore')\n",
    "\n",
    "import nltk.translate.bleu_score as bleu"
   ]
  },
  {
   "cell_type": "code",
   "execution_count": 0,
   "metadata": {
    "colab": {},
    "colab_type": "code",
    "id": "OA-4Oh-B60nQ"
   },
   "outputs": [],
   "source": [
    "np.random.seed(42)\n",
    "tf.random.set_seed(32)"
   ]
  },
  {
   "cell_type": "code",
   "execution_count": 4,
   "metadata": {
    "colab": {
     "base_uri": "https://localhost:8080/",
     "height": 34
    },
    "colab_type": "code",
    "id": "pTu6YUNv9Q4l",
    "outputId": "1a25de20-582e-436a-f399-5dd900a1a00c"
   },
   "outputs": [
    {
     "name": "stdout",
     "output_type": "stream",
     "text": [
      "2.2.0\n"
     ]
    }
   ],
   "source": [
    "print(tf.__version__)"
   ]
  },
  {
   "cell_type": "code",
   "execution_count": 5,
   "metadata": {
    "colab": {
     "base_uri": "https://localhost:8080/",
     "height": 34
    },
    "colab_type": "code",
    "id": "rRGRNciz9S1Z",
    "outputId": "d4a158d0-40da-418c-e385-b676cb6012de"
   },
   "outputs": [
    {
     "data": {
      "text/plain": [
       "'/device:GPU:0'"
      ]
     },
     "execution_count": 5,
     "metadata": {
      "tags": []
     },
     "output_type": "execute_result"
    }
   ],
   "source": [
    "tf.test.gpu_device_name()"
   ]
  },
  {
   "cell_type": "code",
   "execution_count": 0,
   "metadata": {
    "colab": {},
    "colab_type": "code",
    "id": "1XZNoR-D9eC1"
   },
   "outputs": [],
   "source": [
    "image_folder = '/content/drive/My Drive/Colab Notebooks/Medical data case study'\n",
    "annotation_folder = '/content/drive/My Drive/Colab Notebooks/Medical data case study/ecgen-radiology'"
   ]
  },
  {
   "cell_type": "code",
   "execution_count": 0,
   "metadata": {
    "colab": {},
    "colab_type": "code",
    "id": "bCIMqnch9hIa"
   },
   "outputs": [],
   "source": [
    "df=pd.read_csv(r\"/content/drive/My Drive/Colab Notebooks/x_ray_image_with_report (2).csv\")\n",
    "# df.head()\n"
   ]
  },
  {
   "cell_type": "code",
   "execution_count": 0,
   "metadata": {
    "colab": {},
    "colab_type": "code",
    "id": "dbUy0QE09jHU"
   },
   "outputs": [],
   "source": [
    "all_findings, all_impressions, all_img_names, report_id=df['findings'], df['impressions'],df['image_names'], df['report_id']\n"
   ]
  },
  {
   "cell_type": "code",
   "execution_count": 0,
   "metadata": {
    "colab": {},
    "colab_type": "code",
    "id": "v2E6dEad_sma"
   },
   "outputs": [],
   "source": [
    "def load_image(image_path):\n",
    "    img = tf.io.read_file(image_path)\n",
    "    img = tf.image.decode_jpeg(img, channels=3)\n",
    "    img = tf.image.resize(img, (512, 624))\n",
    "    img = tf.keras.applications.inception_v3.preprocess_input(img)\n",
    "    return img, image_path"
   ]
  },
  {
   "cell_type": "code",
   "execution_count": 27,
   "metadata": {
    "colab": {
     "base_uri": "https://localhost:8080/",
     "height": 51
    },
    "colab_type": "code",
    "id": "9jwQ0EisR-ko",
    "outputId": "a503c2e8-da0d-4f95-bb98-503dd85bf0e2"
   },
   "outputs": [
    {
     "name": "stdout",
     "output_type": "stream",
     "text": [
      "Downloading data from https://storage.googleapis.com/tensorflow/keras-applications/inception_v3/inception_v3_weights_tf_dim_ordering_tf_kernels_notop.h5\n",
      "87916544/87910968 [==============================] - 1s 0us/step\n"
     ]
    }
   ],
   "source": [
    "IMG_SHAPE=(512, 624, 3)\n",
    "image_model = tf.keras.applications.InceptionV3(input_shape=IMG_SHAPE,include_top=False,\n",
    "                                                weights='imagenet')\n",
    "new_input = image_model.input\n",
    "hidden_layer = image_model.layers[-1].output\n",
    "\n",
    "image_features_extract_model = tf.keras.Model(new_input, hidden_layer)"
   ]
  },
  {
   "cell_type": "code",
   "execution_count": 0,
   "metadata": {
    "colab": {},
    "colab_type": "code",
    "id": "W-JZCtkzg8fz"
   },
   "outputs": [],
   "source": [
    "top_k = 1225\n",
    "tokenizer = tf.keras.preprocessing.text.Tokenizer(num_words=top_k,\n",
    "                                                  oov_token=\"<unk>\",split=' ', char_level=False,\n",
    "                                                  filters='!\"#$%&()*+.,-/:;=?@[\\]^_`{|}~ ')\n",
    "import pickle\n",
    "with open('/content/drive/My Drive/Colab Notebooks/checkpoints_1/tokenizer.pickle', 'rb') as handle:\n",
    "    tokenizer = pickle.load(handle)"
   ]
  },
  {
   "cell_type": "code",
   "execution_count": 12,
   "metadata": {
    "colab": {
     "base_uri": "https://localhost:8080/",
     "height": 51
    },
    "colab_type": "code",
    "id": "83UcH5theDLT",
    "outputId": "2042b877-48a4-4c50-c648-7ff56fa738a9"
   },
   "outputs": [
    {
     "name": "stdout",
     "output_type": "stream",
     "text": [
      "1225\n",
      "3\n"
     ]
    }
   ],
   "source": [
    "train_seqs = tokenizer.texts_to_sequences(all_impressions)\n",
    "print(len(tokenizer.word_index))\n",
    "print(tokenizer.word_index['<end>'])"
   ]
  },
  {
   "cell_type": "markdown",
   "metadata": {
    "colab_type": "text",
    "id": "zvohB5aVvcGN"
   },
   "source": [
    "### Splitting File, so that Analysis is done mostly on Test Images"
   ]
  },
  {
   "cell_type": "code",
   "execution_count": 13,
   "metadata": {
    "colab": {
     "base_uri": "https://localhost:8080/",
     "height": 51
    },
    "colab_type": "code",
    "id": "zPE2e7qxg_SH",
    "outputId": "9e9085bf-0d35-49c5-f47f-f3ae6043487c"
   },
   "outputs": [
    {
     "name": "stdout",
     "output_type": "stream",
     "text": [
      "2672 2672 335 335\n",
      "334 334\n"
     ]
    }
   ],
   "source": [
    "cap_vector = tf.keras.preprocessing.sequence.pad_sequences(train_seqs, padding='post')\n",
    "max_length = 114\n",
    "img_name_train, img_name_val, cap_train, cap_val = train_test_split(all_img_names,\n",
    "                                                                    cap_vector,\n",
    "                                                                    test_size=0.2,\n",
    "                                                                    random_state=40)\n",
    "# Create training and validation sets using an 80-20 split\n",
    "img_name_test, img_name_val, cap_test, cap_val = train_test_split(img_name_val,\n",
    "                                                                    cap_val,\n",
    "                                                                    test_size=0.5,\n",
    "                                                                    random_state=40)\n",
    "print(len(img_name_train), len(cap_train), len(img_name_val), len(cap_val))\n",
    "print(len(img_name_test), len(cap_test))   "
   ]
  },
  {
   "cell_type": "code",
   "execution_count": 0,
   "metadata": {
    "colab": {},
    "colab_type": "code",
    "id": "xix0rMwC_ZmN"
   },
   "outputs": [],
   "source": [
    "# Load the numpy files\n",
    "def map_func(img_name, cap):\n",
    "  img_tensor = np.load(img_name.decode('utf-8')+'.npy')\n",
    "  return img_tensor, cap\n"
   ]
  },
  {
   "cell_type": "code",
   "execution_count": 0,
   "metadata": {
    "colab": {},
    "colab_type": "code",
    "id": "o8Ua-swF_hDQ"
   },
   "outputs": [],
   "source": [
    "# Feel free to change these parameters according to your system's configuration\n",
    "BATCH_SIZE = 32\n",
    "BUFFER_SIZE = 1000\n",
    "embedding_dim = 64   #earlier 256\n",
    "units = 128 #earlier 256\n",
    "vocab_size = 1225\n",
    "num_steps = len(img_name_train) // BATCH_SIZE\n",
    "# Shape of the vector extracted from InceptionV3 is (252, 2048)\n",
    "# These two variables represent that vector shape\n",
    "features_shape = 2048\n",
    "attention_features_shape = 252              "
   ]
  },
  {
   "cell_type": "markdown",
   "metadata": {
    "colab_type": "text",
    "id": "QPQuU6oQGbxm"
   },
   "source": [
    "# Model"
   ]
  },
  {
   "cell_type": "code",
   "execution_count": 0,
   "metadata": {
    "colab": {},
    "colab_type": "code",
    "id": "noZke1c-iUoI"
   },
   "outputs": [],
   "source": [
    "## https://www.tensorflow.org/tutorials/text/image_captioning\n",
    "## Code taken from official Tensorflow website\n",
    "np.random.seed(42)\n",
    "tf.random.set_seed(32)\n",
    "class BahdanauAttention(tf.keras.Model):\n",
    "  def __init__(self, units):\n",
    "    super(BahdanauAttention, self).__init__()\n",
    "    self.W1 = tf.keras.layers.Dense(units)\n",
    "    self.W2 = tf.keras.layers.Dense(units)\n",
    "    self.V = tf.keras.layers.Dense(1)\n",
    "\n",
    "  def call(self, features, hidden):\n",
    "    # features(CNN_encoder output) shape == (batch_size, 64, embedding_dim)\n",
    "\n",
    "    # hidden shape == (batch_size, hidden_size)\n",
    "    # hidden_with_time_axis shape == (batch_size, 1, hidden_size)\n",
    "    hidden_with_time_axis = tf.expand_dims(hidden, 1)\n",
    "\n",
    "    # score shape == (batch_size, 64, hidden_size)\n",
    "    score = tf.nn.tanh(self.W1(features) + self.W2(hidden_with_time_axis))\n",
    "\n",
    "    # attention_weights shape == (batch_size, 64, 1)\n",
    "    # you get 1 at the last axis because you are applying score to self.V\n",
    "    attention_weights = tf.nn.softmax(self.V(score), axis=1)\n",
    "\n",
    "    # context_vector shape after sum == (batch_size, hidden_size)\n",
    "    context_vector = attention_weights * features\n",
    "    context_vector = tf.reduce_sum(context_vector, axis=1)\n",
    "    \n",
    "    return context_vector, attention_weights\n",
    "\n",
    "\n",
    "class CNN_Encoder(tf.keras.Model):\n",
    "    # Since you have already extracted the features and dumped it using pickle\n",
    "    # This encoder passes those features through a Fully connected layer\n",
    "    def __init__(self, embedding_dim):\n",
    "        super(CNN_Encoder, self).__init__()\n",
    "        # shape after fc == (batch_size, 64, embedding_dim)\n",
    "        self.fc_1 = tf.keras.layers.Dense(3*embedding_dim)\n",
    "        self.fc = tf.keras.layers.Dense(embedding_dim)\n",
    "      \n",
    "\n",
    "    def call(self, x):\n",
    "        x = self.fc_1(x)\n",
    "        x = tf.nn.relu(x)\n",
    "        x = self.fc(x)\n",
    "        x = tf.nn.relu(x)\n",
    "        # print(\"output from CNN encoder : \", x)\n",
    "        return x \n",
    "\n",
    "class RNN_Decoder(tf.keras.Model):\n",
    "  def __init__(self, embedding_dim, units, vocab_size):\n",
    "    super(RNN_Decoder, self).__init__()\n",
    "    self.units = units\n",
    "\n",
    "    self.embedding = tf.keras.layers.Embedding(vocab_size, embedding_dim)\n",
    "    self.gru = tf.keras.layers.GRU(self.units,\n",
    "                                   return_sequences=True,\n",
    "                                   return_state=True,\n",
    "                                   recurrent_initializer='glorot_uniform')\n",
    "    self.fc1 = tf.keras.layers.Dense(self.units, kernel_initializer='glorot_uniform')\n",
    "    self.fc2 = tf.keras.layers.Dense(vocab_size, kernel_initializer='glorot_uniform')\n",
    "\n",
    "    self.attention = BahdanauAttention(self.units)\n",
    "\n",
    "  def call(self, x, features, hidden):\n",
    "    # defining attention as a separate model\n",
    "    context_vector, attention_weights = self.attention(features, hidden)\n",
    "\n",
    "    # x shape after passing through embedding == (batch_size, 1, embedding_dim)\n",
    "    x = self.embedding(x)   \n",
    "\n",
    "    # x shape after concatenation == (batch_size, 1, embedding_dim + hidden_size)\n",
    "    x = tf.concat([tf.expand_dims(context_vector, 1), x], axis=-1)\n",
    "\n",
    "    # passing the concatenated vector to the GRU\n",
    "    output, state = self.gru(x)\n",
    "\n",
    "    # shape == (batch_size, max_length, hidden_size)\n",
    "    x = self.fc1(output)\n",
    "\n",
    "    # x shape == (batch_size * max_length, hidden_size)\n",
    "    # https://www.tensorflow.org/api_docs/python/tf/reshape\n",
    "    x = tf.reshape(x, (-1, x.shape[2]))\n",
    "    x = self.fc2(x)\n",
    "    \n",
    "    return x, state, attention_weights\n",
    "\n",
    "  def reset_state(self, batch_size):            \n",
    "    return tf.zeros((batch_size, self.units))\n",
    "\n"
   ]
  },
  {
   "cell_type": "code",
   "execution_count": 0,
   "metadata": {
    "colab": {},
    "colab_type": "code",
    "id": "siyq3qhuiXhy"
   },
   "outputs": [],
   "source": [
    "encoder = CNN_Encoder(embedding_dim) \n",
    "decoder = RNN_Decoder(embedding_dim, units, vocab_size)"
   ]
  },
  {
   "cell_type": "code",
   "execution_count": 0,
   "metadata": {
    "colab": {},
    "colab_type": "code",
    "id": "QyvhBd_ZiduG"
   },
   "outputs": [],
   "source": [
    "optimizer = tf.keras.optimizers.Adam(learning_rate=0.0001)\n",
    "checkpoint_path = \"/content/drive/My Drive/Colab Notebooks/checkpoints_2/train\"\n",
    "ckpt = tf.train.Checkpoint(encoder=encoder,\n",
    "                           decoder=decoder,\n",
    "                           optimizer = optimizer)\n",
    "ckpt_manager = tf.train.CheckpointManager(ckpt, checkpoint_path, max_to_keep=5)"
   ]
  },
  {
   "cell_type": "code",
   "execution_count": 22,
   "metadata": {
    "colab": {
     "base_uri": "https://localhost:8080/",
     "height": 102
    },
    "colab_type": "code",
    "id": "5E9C-DSfDYk5",
    "outputId": "ce714528-2eec-409f-e513-14d22cee1088"
   },
   "outputs": [
    {
     "data": {
      "text/plain": [
       "['/content/drive/My Drive/Colab Notebooks/checkpoints_2/train/ckpt-11',\n",
       " '/content/drive/My Drive/Colab Notebooks/checkpoints_2/train/ckpt-12',\n",
       " '/content/drive/My Drive/Colab Notebooks/checkpoints_2/train/ckpt-13',\n",
       " '/content/drive/My Drive/Colab Notebooks/checkpoints_2/train/ckpt-14',\n",
       " '/content/drive/My Drive/Colab Notebooks/checkpoints_2/train/ckpt-15']"
      ]
     },
     "execution_count": 22,
     "metadata": {
      "tags": []
     },
     "output_type": "execute_result"
    }
   ],
   "source": [
    "ckpt.restore(ckpt_manager.latest_checkpoint)\n",
    "ckpt_manager.checkpoints"
   ]
  },
  {
   "cell_type": "markdown",
   "metadata": {
    "colab_type": "text",
    "id": "MR3IgaSFoC0F"
   },
   "source": [
    "## Evaluating Techniques\n",
    "1. evaluate_argmax- No Beam Search, takes argmax\n",
    "2. evaluate- No Beam Search, but with categorical distribution\n",
    "3. evaluate_beam- Beam Search with Categorical distribution\n",
    "4. evaluate_image- evaluate_beam without attention weights\n",
    "### Note: Evaluate beam with argmax function does not give <end> token"
   ]
  },
  {
   "cell_type": "code",
   "execution_count": 0,
   "metadata": {
    "colab": {},
    "colab_type": "code",
    "id": "xghHvYpbjibS"
   },
   "outputs": [],
   "source": [
    "def evaluate_argmax(image):\n",
    "  attention_plot = np.zeros((max_length, 252))\n",
    "  hidden = decoder.reset_state(batch_size=1)\n",
    "  temp_input = tf.expand_dims(load_image(image)[0], 0)\n",
    "  img_tensor_val = image_features_extract_model(temp_input)\n",
    "  img_tensor_val = tf.reshape(img_tensor_val, (img_tensor_val.shape[0], -1, img_tensor_val.shape[3]))\n",
    "  features = encoder(img_tensor_val)\n",
    "  dec_input = tf.expand_dims([tokenizer.word_index['<start>']], 0) # Start token is <start> for LSTM\n",
    "  result = []\n",
    "  for i in range(max_length): \n",
    "    predictions, hidden, attention_weights = decoder(dec_input, features, hidden)\n",
    "    attention_plot[i] = tf.reshape(attention_weights, (-1, )).numpy()\n",
    "    predicted_id = tf.argmax(predictions[0]).numpy()\n",
    "    result.append(tokenizer.index_word[predicted_id]) # Store the result or word predicted\n",
    "    if tokenizer.index_word[predicted_id] == '<end>': # if you reach <end> token then return the result\n",
    "        return result, attention_plot\n",
    "    dec_input = tf.expand_dims([predicted_id], 0) # Decoder input is the word predicted at previous timestep\n",
    "  attention_plot = attention_plot[:len(result), :]\n",
    "  return result, attention_plot\n",
    "def evaluate(image):\n",
    "  attention_plot = np.zeros((max_length, 252))\n",
    "  hidden = decoder.reset_state(batch_size=1)\n",
    "  temp_input = tf.expand_dims(load_image(image)[0], 0)\n",
    "  img_tensor_val = image_features_extract_model(temp_input)\n",
    "  img_tensor_val = tf.reshape(img_tensor_val, (img_tensor_val.shape[0], -1, img_tensor_val.shape[3]))\n",
    "  features = encoder(img_tensor_val)\n",
    "  dec_input = tf.expand_dims([tokenizer.word_index['<start>']], 0)\n",
    "  result = []\n",
    "  for i in range(max_length):\n",
    "    predictions, hidden, attention_weights = decoder(dec_input, features, hidden)\n",
    "    attention_plot[i] = tf.reshape(attention_weights, (-1, )).numpy()\n",
    "    predicted_id = tf.random.categorical(predictions, 1)[0][0].numpy()\n",
    "    result.append(tokenizer.index_word[predicted_id])\n",
    "    if tokenizer.index_word[predicted_id] == '<end>':\n",
    "      return result, attention_plot   \n",
    "    dec_input = tf.expand_dims([predicted_id], 0)\n",
    "  attention_plot = attention_plot[:len(result), :]\n",
    "  return result, attention_plot\n",
    "\n",
    "def evaluate_beam(image, beam_index = 3):\n",
    "    start = [tokenizer.word_index['<start>']]    \n",
    "    # result[0][0] = index of the starting word\n",
    "    # result[0][1] = probability of the word predicted\n",
    "    result = [[start, 0.0]]\n",
    "    attention_plot = np.zeros((max_length, attention_features_shape))\n",
    "\n",
    "    hidden = decoder.reset_state(batch_size=1)\n",
    "\n",
    "    temp_input = tf.expand_dims(load_image(image)[0], 0)\n",
    "    img_tensor_val = image_features_extract_model(temp_input)\n",
    "    img_tensor_val = tf.reshape(img_tensor_val, (img_tensor_val.shape[0], -1, img_tensor_val.shape[3]))\n",
    "\n",
    "    features = encoder(img_tensor_val)\n",
    "    dec_input = tf.expand_dims([tokenizer.word_index['<start>']], 0)\n",
    "    while len(result[0][0]) < max_length:\n",
    "        i=0                                \n",
    "        temp = []\n",
    "        for s in result:\n",
    "\n",
    "          predictions, hidden, attention_weights = decoder(dec_input, features, hidden)\n",
    "\n",
    "          attention_plot[i] = tf.reshape(attention_weights, (-1, )).numpy()\n",
    "          i=i+1\n",
    "          # Getting the top <beam_index>(n) predictions\n",
    "          # word_preds = np.argsort(predictions[0])[-beam_index:]   \n",
    "          word_preds = tf.random.categorical(predictions, 1)[0][-beam_index:].numpy()              \n",
    "          # word_preds=tf.argmax(predictions[0])[-beam_index:].numpy()\n",
    "          # creating a new list so as to put them via the model again\n",
    "          for w in word_preds:       \n",
    "            next_cap, prob = s[0][:], s[1]\n",
    "            next_cap.append(w)\n",
    "            prob += predictions[0][w]\n",
    "            temp.append([next_cap, prob])\n",
    "        result = temp\n",
    "        # Sorting according to the probabilities\n",
    "        result = sorted(result, reverse=False, key=lambda l: l[1])\n",
    "        # Getting the top words\n",
    "        result = result[-beam_index:]   \n",
    "        \n",
    "        predicted_id = result[-1] # with Max Probability\n",
    "        pred_list = predicted_id[0]        \n",
    "        \n",
    "        prd_id = pred_list[-1] \n",
    "        if(prd_id!=3):\n",
    "          dec_input = tf.expand_dims([prd_id], 0)  # Decoder input is the word predicted with highest probability among the top_k words predicted\n",
    "        else:\n",
    "          break\n",
    "\n",
    "    result = result[-1][0]    \n",
    "    intermediate_caption = [tokenizer.index_word[i] for i in result]\n",
    "    final_caption = []\n",
    "    for i in intermediate_caption:\n",
    "        if i == '<end>':\n",
    "          final_caption.append(\" <end>\")\n",
    "          break\n",
    "        if i != '<end>':\n",
    "          final_caption.append(i)\n",
    "          \n",
    "    attention_plot = attention_plot[:len(result), :]\n",
    "    return final_caption[1:],attention_plot       \n",
    "def evaluate_image(image, beam_index = 3):\n",
    "    start = [tokenizer.word_index['<start>']]    \n",
    "    # result[0][0] = index of the starting word\n",
    "    # result[0][1] = probability of the word predicted\n",
    "    result = [[start, 0.0]]\n",
    "    attention_plot = np.zeros((max_length, attention_features_shape))\n",
    "\n",
    "    hidden = decoder.reset_state(batch_size=1)\n",
    "\n",
    "    temp_input = tf.expand_dims(load_image(image)[0], 0)\n",
    "    img_tensor_val = image_features_extract_model(temp_input)\n",
    "    img_tensor_val = tf.reshape(img_tensor_val, (img_tensor_val.shape[0], -1, img_tensor_val.shape[3]))\n",
    "\n",
    "    features = encoder(img_tensor_val)\n",
    "\n",
    "    dec_input = tf.expand_dims([tokenizer.word_index['<start>']], 0)\n",
    "\n",
    "    while len(result[0][0]) < max_length:\n",
    "        i=0                                \n",
    "        temp = []\n",
    "        for s in result:\n",
    "\n",
    "          predictions, hidden, _ = decoder(dec_input, features, hidden)\n",
    "\n",
    "          # attention_plot[i] = tf.reshape(attention_weights, (-1, )).numpy()\n",
    "          i=i+1\n",
    "          # Getting the top <beam_index>(n) predictions\n",
    "          # word_preds = np.argsort(predictions[0])[-beam_index:]   \n",
    "          word_preds = tf.random.categorical(predictions, 1)[0][-beam_index:].numpy()              \n",
    "          \n",
    "          # creating a new list so as to put them via the model again\n",
    "          for w in word_preds:       \n",
    "            next_cap, prob = s[0][:], s[1]\n",
    "            next_cap.append(w)\n",
    "            prob += predictions[0][w]\n",
    "            temp.append([next_cap, prob])\n",
    "        result = temp\n",
    "        # Sorting according to the probabilities\n",
    "        result = sorted(result, reverse=False, key=lambda l: l[1])\n",
    "        # Getting the top words\n",
    "        result = result[-beam_index:]   \n",
    "        \n",
    "        predicted_id = result[-1] # with Max Probability\n",
    "        pred_list = predicted_id[0]        \n",
    "        \n",
    "        prd_id = pred_list[-1] \n",
    "        if(prd_id!=3):\n",
    "          dec_input = tf.expand_dims([prd_id], 0)  # Decoder input is the word predicted with highest probability among the top_k words predicted\n",
    "        else:\n",
    "          break\n",
    "\n",
    "    result = result[-1][0]    \n",
    "    intermediate_caption = [tokenizer.index_word[i] for i in result]\n",
    "    final_caption = []\n",
    "    for i in intermediate_caption:\n",
    "        if i == '<end>':\n",
    "          final_caption.append(\" <end>\")\n",
    "          break\n",
    "        if i != '<end>':\n",
    "          final_caption.append(i)\n",
    "            \n",
    "        # else:\n",
    "        #     break\n",
    "    \n",
    "    final_caption = ' '.join(final_caption[1:])\n",
    "    # final_caption=final_caption + ' <end>'\n",
    "    # print(\"shape beam\", attention_plot.shape)\n",
    "    return final_caption[1:]      \n",
    "import PIL.Image     \n",
    "def plot_attention(image, result, attention_plot):\n",
    "    # img_name_to_save=image\n",
    "    temp_image = np.array(PIL.Image.open(image))\n",
    "    fig = plt.figure(figsize=(10, 10))\n",
    "    len_result = len(result)    \n",
    "    for l in range(len_result):\n",
    "        # print(\"shape attention plot[l]= \", attention_plot.shape)\n",
    "        temp_att = np.resize(attention_plot[l], (8, 8))          \n",
    "        ax = fig.add_subplot((len_result//2)+1, (len_result//2)+1, l+1)\n",
    "        ax.set_title(result[l])\n",
    "        img = ax.imshow(temp_image)\n",
    "        # print(\"temp attn shape\",temp_att.shape)\n",
    "        ax.imshow(temp_att, cmap='gray', alpha=0.6, extent=img.get_extent())\n",
    "    plt.tight_layout()\n",
    "    plt.savefig(\"newest.png\") # save as png\n",
    "    plt.show()                                                                  "
   ]
  },
  {
   "cell_type": "markdown",
   "metadata": {
    "colab_type": "text",
    "id": "VBP-wxWBsC9d"
   },
   "source": [
    "# Output Analysis"
   ]
  },
  {
   "cell_type": "code",
   "execution_count": 28,
   "metadata": {
    "colab": {
     "base_uri": "https://localhost:8080/",
     "height": 483
    },
    "colab_type": "code",
    "id": "FNip9DyB6fM0",
    "outputId": "d7f0fc25-7a32-4b2b-85e2-4520b8b1ea6e"
   },
   "outputs": [
    {
     "name": "stdout",
     "output_type": "stream",
     "text": [
      "Prediction Caption: true acute abnormality <end>\n"
     ]
    },
    {
     "data": {
      "image/png": "[encoded data removed]",
      "text/plain": [
       "<Figure size 720x720 with 4 Axes>"
      ]
     },
     "metadata": {
      "needs_background": "light",
      "tags": []
     },
     "output_type": "display_data"
    }
   ],
   "source": [
    "# captions on the test set\n",
    "max_length=114\n",
    "image=img_name_test[827]\n",
    "\n",
    "result, attention_plot = evaluate(image)\n",
    "\n",
    "print ('Prediction Caption:', ' '.join(result))\n",
    "plot_attention(image, result, attention_plot)\n"
   ]
  },
  {
   "cell_type": "code",
   "execution_count": 37,
   "metadata": {
    "colab": {
     "base_uri": "https://localhost:8080/",
     "height": 34
    },
    "colab_type": "code",
    "id": "qFCHRxOWZY9q",
    "outputId": "b39b7db1-0ef0-4ec6-8e98-8d817a9518f8"
   },
   "outputs": [
    {
     "name": "stdout",
     "output_type": "stream",
     "text": [
      "['no', 'acute', 'disease', '<end>']\n"
     ]
    }
   ],
   "source": [
    "result, _ = evaluate(image)\n",
    "print(result)"
   ]
  },
  {
   "cell_type": "code",
   "execution_count": 0,
   "metadata": {
    "colab": {},
    "colab_type": "code",
    "id": "J1ZcrJWTZ5d-"
   },
   "outputs": [],
   "source": []
  },
  {
   "cell_type": "code",
   "execution_count": 0,
   "metadata": {
    "colab": {},
    "colab_type": "code",
    "id": "lJIe6_UUZ5cX"
   },
   "outputs": [],
   "source": []
  }
 ],
 "metadata": {
  "accelerator": "GPU",
  "colab": {
   "collapsed_sections": [
    "P9TSscg8UIHR"
   ],
   "machine_shape": "hm",
   "name": "final.ipynb",
   "provenance": []
  },
  "kernelspec": {
   "display_name": "Python 3",
   "language": "python",
   "name": "python3"
  },
  "language_info": {
   "codemirror_mode": {
    "name": "ipython",
    "version": 3
   },
   "file_extension": ".py",
   "mimetype": "text/x-python",
   "name": "python",
   "nbconvert_exporter": "python",
   "pygments_lexer": "ipython3",
   "version": "3.6.5"
  }
 },
 "nbformat": 4,
 "nbformat_minor": 1
}
